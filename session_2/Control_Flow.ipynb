{
 "cells": [
  {
   "cell_type": "markdown",
   "id": "8b15b75d",
   "metadata": {},
   "source": [
    "# 2. Control Flow\n",
    "\n",
    "One of the greatest advantages of doing analysis programmatically over using Excel is the ability to use advanced logic and repeat a process many times over without having to rerun the cells or change vales. \n",
    "\n",
    "### What is Control Flow?\n",
    "\n",
    "Is the order in which statements in code get executed. There are special types of control flow which we will explore further here. The main types are loops and conditions.\n"
   ]
  },
  {
   "cell_type": "markdown",
   "id": "04622a56",
   "metadata": {},
   "source": [
    "## 2.1 Conditions\n",
    "\n",
    "Sometimes we want our code to make decisions based on inputs. We can do this via conditional statements.\n",
    "\n",
    "In Python, we can do this by setting up an `if` statement. The `if` statement will evaluate a condition. If the condition is met the statement inside the if loop will be executed. If not the code will pass on to the next statement. You can also add an `else` to this statement to describe what to do if the condition is not met. \n",
    "\n",
    "The example below checks that a value is positive before it tries to do the square root. If the number is negative it will not run the square root and give a message. \n",
    "\n",
    "Run the cell below to see how this works. Try changing the value of `x` what happens?\n"
   ]
  },
  {
   "cell_type": "code",
   "execution_count": null,
   "id": "c6f56d7c",
   "metadata": {},
   "outputs": [
    {
     "name": "stdout",
     "output_type": "stream",
     "text": [
      "0.9486832980505138\n"
     ]
    }
   ],
   "source": [
    "from numpy import sqrt\n",
    "\n",
    "x = 3.9\n",
    "\n",
    "if x >= 0 :\n",
    "    print(sqrt(x))\n",
    "else:\n",
    "    \"Negative number - cannot square root\""
   ]
  },
  {
   "cell_type": "markdown",
   "id": "28afda09",
   "metadata": {},
   "source": [
    "If you want to evaluate against multiple conditions you can use `elif` in the statement. The example below is a simple multifrequency modulator, it will modulate frequencies depending on the input. It quadruples the frequency if it is between 400-500 Hz , doubles it between 100-200 Hz,  and blocks any other frequency range. Run the cell changing the frequency of `x` to get all the outputs"
   ]
  },
  {
   "cell_type": "code",
   "execution_count": null,
   "id": "73e6d435",
   "metadata": {},
   "outputs": [
    {
     "name": "stdout",
     "output_type": "stream",
     "text": [
      "1\n"
     ]
    }
   ],
   "source": [
    "x =100 # frequency in Hz\n",
    "\n",
    "if x >= 100 and x <= 200:\n",
    "    x = 2*x\n",
    "elif x >= 400 and x <= 500:\n",
    "    x = 4*x\n",
    "else:\n",
    "    x = 0 \n",
    "    \n",
    "print(x)"
   ]
  },
  {
   "cell_type": "markdown",
   "id": "38e3cd90",
   "metadata": {},
   "source": [
    "You will notice the `if` statements above all  follow a specific structure. In python indents are **very important** and they are used to define statements in the code. In other languages this indentation to show blocks of code is often given with curly braces `{}` . The way that Python is structured is often considered an advantage because it makes code very readable. \n",
    "\n",
    "An indentation can be made in python by using the Tab button on your keyboard. Some editors will indent with 2 white spaces others use 4. It does not matter which you use but try to keep it consistant in your code. To structure an if statement it looks like this:\n",
    "\n",
    "```\n",
    "if x > 10 :    # Make sure you include a colon\n",
    "  y = x + 1    # note there are two spaces before the y\n",
    "elif x == 10 : # elif goes in the same vertical space as the if statement above it\n",
    "  y = x        # two spaces before y\n",
    "else:\n",
    "  y = x - 1   # if you have an elif, you must finish with an else statement\n",
    "  \n",
    "```\n",
    "\n",
    "#### Exercises\n",
    "\n",
    "* Now write your own if statement to assess the pH level in a pond. If the ph is above 7 then the pond variable can be assigned the string `\"base\"` or `\"alkali\"` if below 7 then `\"acidic\"`. \n",
    "\n",
    "* Can you extend this to example to include `neutral` if the pH is at 7?\n",
    "* Can you extend this further to be more realistic? Instead of having `\"acidic\"`, `\"alkali\"` and `\"neutral\"` include pH ranges for `liveable` , `too acidic` or `too alkali` ? Look at the example of the frequency filter in cell 9 for inspiration.\n",
    "  "
   ]
  },
  {
   "cell_type": "code",
   "execution_count": null,
   "id": "52fe714e",
   "metadata": {},
   "outputs": [],
   "source": [
    "# Your example here"
   ]
  },
  {
   "cell_type": "markdown",
   "id": "4aece153",
   "metadata": {},
   "source": [
    "## 2.2 Loops\n",
    "### 2.2.0 For Loops\n",
    "Loops execute statements multiple times until a condition is met. The simplest loop in python is a `for` loop. The first line of the `for` loop defines how many times the statement should be executed. The next line of the `for` loop is what we would like to execute. \n",
    "\n",
    "There are mutiple ways of structuring these loops in Python and I will go through some examples here.\n",
    "\n",
    "#### Looping through a range\n",
    "The first way to structure a loop is to run a command several times. Here we want to evaluate the following infinite sum. Remember this classic maths problem? If a frog jumps across a pond and each jump he makes is half the previous jump , will he ever make it to the other side?\n",
    "\n",
    "Here we have written a `for` loop that evaluates how far the frog gets after 10 jumps. Evaluate the cell, what happens when you increase the number of jumps?"
   ]
  },
  {
   "cell_type": "code",
   "execution_count": null,
   "id": "9ed8bfe6",
   "metadata": {},
   "outputs": [
    {
     "name": "stdout",
     "output_type": "stream",
     "text": [
      "0.998046875\n"
     ]
    }
   ],
   "source": [
    "distance_jumped=0\n",
    "no_jumps = 10\n",
    "for jump in range(1,no_jumps):\n",
    "    distance_jumped = distance_jumped + 1/(2**jump)\n",
    "\n",
    "print(distance_jumped)"
   ]
  },
  {
   "cell_type": "markdown",
   "id": "88ba2817",
   "metadata": {},
   "source": [
    "#### Looping over a list\n",
    "Do you remember some of those special types we saw in the last notebook, `Basics.ipynb`? Some of these have the property that they are iterable which just means you can loop through them. The special `range` object we used above, is also an iterable. Any iterable can be used to control a loop. \n",
    "\n",
    "Here we are going to loop over a list of names to create a set of party invitations. It is possible in python to hook this up to email and we could send these all out. However, there is no party and it is outside the scope of the course , so we will continue with this pretend example"
   ]
  },
  {
   "cell_type": "code",
   "execution_count": null,
   "id": "eee33426",
   "metadata": {},
   "outputs": [
    {
     "name": "stdout",
     "output_type": "stream",
     "text": [
      "Dear Ford, we would really like if you could come to our awesome party. From Session 2\n",
      "Dear Arthur, we would really like if you could come to our awesome party. From Session 2\n",
      "Dear Trillian, we would really like if you could come to our awesome party. From Session 2\n",
      "Dear Marvin, we would really like if you could come to our awesome party. From Session 2\n",
      "Dear Zaphod, we would really like if you could come to our awesome party. From Session 2\n"
     ]
    }
   ],
   "source": [
    "guests = [\"Ford\", \"Arthur\", \"Trillian\", \"Marvin\", \"Zaphod\"]\n",
    "\n",
    "for guest in guests:\n",
    "    print( \"Dear \" + guest + \", we would really like if you could come to our awesome party. From Session 2\")"
   ]
  },
  {
   "cell_type": "markdown",
   "id": "327e4982",
   "metadata": {},
   "source": [
    "#### Exercises\n",
    "* Write your own `for` loop to add up the numbers 1 to 10\n",
    "* Write your own `for` loop to say \"Hello\" to 4 different people in the session."
   ]
  },
  {
   "cell_type": "code",
   "execution_count": null,
   "id": "365a946f",
   "metadata": {},
   "outputs": [],
   "source": [
    "# Your examples here"
   ]
  },
  {
   "cell_type": "markdown",
   "id": "db60187a",
   "metadata": {},
   "source": [
    "### 2.2.1 While Loops\n",
    "\n",
    "A `while` loop will continually run a process until a condition is met. They are not used often in analysis but they are used heavily in instrument control and robotics. \n",
    "\n",
    "The following example will simulate a microwave and tells us when our food is cooked. The cook time is set for 10 seconds.During the cooking period the `while` loop will print the statement \"Still Cooking..\"\n"
   ]
  },
  {
   "cell_type": "code",
   "execution_count": null,
   "id": "ced59f80",
   "metadata": {},
   "outputs": [
    {
     "name": "stdout",
     "output_type": "stream",
     "text": [
      "Start Cooking...\n",
      "Still Cooking...\n",
      "Still Cooking...\n",
      "Still Cooking...\n",
      "Still Cooking...\n",
      "Still Cooking...\n",
      "Ready...\n"
     ]
    }
   ],
   "source": [
    "from time import time, sleep \n",
    "\n",
    "cook_time = 10\n",
    "end_time = time() + cook_time\n",
    "print(\"Start Cooking...\")\n",
    "\n",
    "while time() < end_time:\n",
    "    print(\"Still Cooking...\")\n",
    "    sleep(2)\n",
    "    \n",
    "print(\"Ready...\")"
   ]
  },
  {
   "cell_type": "markdown",
   "id": "5c08c68e",
   "metadata": {},
   "source": [
    "## 2.3 Loops and Conditions\n",
    "\n",
    "When we bring together loops and conditions we can do some really powerful flow control. The first example sorts a group numbers into odds and evens.\n",
    "\n"
   ]
  },
  {
   "cell_type": "code",
   "execution_count": null,
   "id": "c63da54c",
   "metadata": {},
   "outputs": [],
   "source": [
    "random_list = [2,5,41,8,3,90]\n",
    "evens = []\n",
    "odds = []\n",
    "\n",
    "for n in random_list:\n",
    "    if n%2==0:\n",
    "        evens.assign(n)\n",
    "    else:\n",
    "        odds.assign(n)\n",
    "\n",
    "\n"
   ]
  },
  {
   "cell_type": "markdown",
   "id": "e35d926e",
   "metadata": {},
   "source": [
    "The second example will loop through a list of files names and selects out the data from the header files. Being able to loop through filenames is very powerful as it allows you to process lots of datasets very quickly, rather than having a very large or multiple Excel spreadsheet. "
   ]
  },
  {
   "cell_type": "code",
   "execution_count": null,
   "id": "507f9b20",
   "metadata": {},
   "outputs": [],
   "source": [
    "filenames = [\"sample_1.txt\", \"sample_1.csv\", \"sample_2.txt\", \"sample_2.csv\", \"sample_3.txt\", \"sample_3.csv\"]:\n",
    "\n",
    "for fname in filenames:\n",
    "    if \"csv\" in fname:\n",
    "        print(fname)"
   ]
  },
  {
   "cell_type": "markdown",
   "id": "591ebfaa",
   "metadata": {},
   "source": [
    "## Exercises:\n",
    "* Can you write a for loop that will sort this list into positive and negative numbers `[-1,2,-5,8,6,-3,7]` ? You will have to use a this list to control the loop and create two other lists to assign the values to as in the odds and evens example."
   ]
  },
  {
   "cell_type": "code",
   "execution_count": null,
   "id": "ea02b917",
   "metadata": {},
   "outputs": [],
   "source": [
    "# Your examples here"
   ]
  },
  {
   "attachments": {},
   "cell_type": "markdown",
   "id": "a3a5a5c3",
   "metadata": {},
   "source": [
    "## 2.4 Going Further\n",
    "\n",
    "We have seen that loops and conditional statements are very powerful together, however in the next workbook we will see how we can do some of these operations in a more performant way using a technique called vectorisation. \n",
    "\n",
    "Don't let this put you off loops though, they are a very useful way to structure programs. For further information on programming basics please look at http://scipy-lectures.org/ "
   ]
  }
 ],
 "metadata": {
  "kernelspec": {
   "display_name": "Python 3 (ipykernel)",
   "language": "python",
   "name": "python3"
  },
  "language_info": {
   "codemirror_mode": {
    "name": "ipython",
    "version": 3
   },
   "file_extension": ".py",
   "mimetype": "text/x-python",
   "name": "python",
   "nbconvert_exporter": "python",
   "pygments_lexer": "ipython3",
   "version": "3.9.12"
  }
 },
 "nbformat": 4,
 "nbformat_minor": 5
}
