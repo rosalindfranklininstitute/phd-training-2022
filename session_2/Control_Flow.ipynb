{
 "cells": [
  {
   "cell_type": "markdown",
   "id": "b375edfd",
   "metadata": {},
   "source": [
    "# 2. Control Flow\n",
    "\n",
    "One of the greatest advantages of doing analysis programmatically over using Excel is the ability to use advanced logic and repeat a process many times over without having to rerun the cells or change vales. \n",
    "\n",
    "### What is Control Flow?\n",
    "\n",
    "Is the order in which statements in code get executed. There are special types of control flow which we will explore further here. The main types are loops and conditions.\n"
   ]
  },
  {
   "cell_type": "markdown",
   "id": "77e110d9",
   "metadata": {},
   "source": [
    "## 2.1 Conditions\n",
    "\n",
    "Sometimes we want our code to make decisions based on inputs. We can do this via conditional statements.\n",
    "\n",
    "In Python, we can do this by setting up an `if` statement. The `if` statement will evaluate a condition. If the condition is met the statement inside the if loop will be executed. If not the code will pass on to the next statement. You can also add an `else` to this statement to describe what to do if the condition is not met. \n",
    "\n",
    "The example below checks that a value is positive before it tries to do the square root. If the number is negative it will not run the square root and give a message. \n",
    "\n",
    "Run the cell below to see how this works. Try changing the value of `x` what happens?\n"
   ]
  },
  {
   "cell_type": "code",
   "execution_count": 5,
   "id": "35df1c48",
   "metadata": {},
   "outputs": [
    {
     "name": "stdout",
     "output_type": "stream",
     "text": [
      "0.9486832980505138\n"
     ]
    }
   ],
   "source": [
    "from numpy import sqrt\n",
    "\n",
    "x = 3.9\n",
    "\n",
    "if x >= 0 :\n",
    "    print(sqrt(x))\n",
    "else:\n",
    "    \"Negative number - cannot square root\""
   ]
  },
  {
   "cell_type": "markdown",
   "id": "52ed8029",
   "metadata": {},
   "source": [
    "If you want to evaluate against multiple conditions you can use `elif` in the statement. The example below is a simple multifrequency band filter. It sets frequencies in certain ranges to 1 and all other numbers in the range to 0. Run the cell changing the frequency of `x` to get all the outputs"
   ]
  },
  {
   "cell_type": "code",
   "execution_count": 9,
   "id": "d2cb5dab",
   "metadata": {},
   "outputs": [
    {
     "name": "stdout",
     "output_type": "stream",
     "text": [
      "1\n"
     ]
    }
   ],
   "source": [
    "x =100 # frequency in Hz\n",
    "\n",
    "if x >= 100 and x <= 200:\n",
    "    x = 1\n",
    "elif x >= 400 and x <= 500:\n",
    "    x =1\n",
    "else:\n",
    "    x = 0 \n",
    "    \n",
    "print(x)"
   ]
  },
  {
   "cell_type": "markdown",
   "id": "155af2f7",
   "metadata": {},
   "source": [
    "You will notice the `if` statements above all  follow a specific structure. In python indents are very important and they are used to define statements in the code. In other languages this indentation to show blocks of code is often given with curly braces `{}` . The way that Python is structured is often considered an advantage because it makes code very readable. \n",
    "\n",
    "An indentation can be made in python by using the Tab button on your keyboard. To structure an if stament it looks like this:\n",
    "\n",
    "```\n",
    "if x > 10 :    # Make sure you include a colon\n",
    "  y = x + 1    # note there are two spaces before the y\n",
    "elif x == 10 : # elif goes in the same vertical space as the if statement above it\n",
    "  y = x        # two spaces before y\n",
    "else:\n",
    "  y = x - 1   # if you have an elif, you must finish with an else statement\n",
    "  \n",
    "```\n",
    "\n",
    "Now write your own if statement to assess the pH level in a pond. If the ph is above 7 then the pond variable can be assigned the string `\"base\"` or `\"alkali\"` if below 7 then `\"acidic\"`. \n",
    "\n",
    "Can you extend this to include `neutral` if the pH is at 7?\n",
    "Can you extend this further to include ranges for `liveable` , `too acidic` or `too alkali` like we have done with the frequency filter above?\n",
    "  "
   ]
  },
  {
   "cell_type": "code",
   "execution_count": null,
   "id": "57e3bd6d",
   "metadata": {},
   "outputs": [],
   "source": []
  },
  {
   "cell_type": "markdown",
   "id": "922a426d",
   "metadata": {},
   "source": [
    "## 2.2 Loops\n",
    "\n",
    "Loops execute statements multiple times until a condition is met. The simplest loop in python is a `for` loop. The first line of the `for` loop defines "
   ]
  },
  {
   "cell_type": "code",
   "execution_count": null,
   "id": "48fe7d4b",
   "metadata": {},
   "outputs": [],
   "source": []
  },
  {
   "cell_type": "code",
   "execution_count": null,
   "id": "d82f46e6",
   "metadata": {},
   "outputs": [],
   "source": []
  },
  {
   "cell_type": "code",
   "execution_count": null,
   "id": "926ca4a6",
   "metadata": {},
   "outputs": [],
   "source": []
  },
  {
   "cell_type": "markdown",
   "id": "796883e4",
   "metadata": {},
   "source": [
    "## 2.3 Loops and Conditions"
   ]
  }
 ],
 "metadata": {
  "kernelspec": {
   "display_name": "Python 3 (ipykernel)",
   "language": "python",
   "name": "python3"
  },
  "language_info": {
   "codemirror_mode": {
    "name": "ipython",
    "version": 3
   },
   "file_extension": ".py",
   "mimetype": "text/x-python",
   "name": "python",
   "nbconvert_exporter": "python",
   "pygments_lexer": "ipython3",
   "version": "3.9.12"
  }
 },
 "nbformat": 4,
 "nbformat_minor": 5
}
