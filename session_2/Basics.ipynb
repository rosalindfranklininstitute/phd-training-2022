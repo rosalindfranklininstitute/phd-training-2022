{
 "cells": [
  {
   "cell_type": "markdown",
   "id": "dc577eb9",
   "metadata": {},
   "source": [
    "# Basic Programming in Python\n",
    "\n",
    "This notebook aims to take you over the very basic essentials in programming. We will be focussing on Python but these building blocks exist in most, if not all other programming languages. You will learn in this session some of the fundamentals of writing code, which you may never have to use again, but will hopefully help you with your coding journey."
   ]
  },
  {
   "cell_type": "markdown",
   "id": "c1840332",
   "metadata": {},
   "source": [
    "## 1.1 Variable Assignment\n",
    "\n",
    "### What is a variable?\n",
    "A variable stores information that can be accessed during the execution of a program. Variables can be updated or changed during execution. In Python (and most programming languages) variables are assigned with an `=`.\n",
    "\n",
    "In the cell below the variable `a` has been assigned a value of `1`. Run the cell and see what happens. \n",
    "Change the value of `a` and run the cell again. What is the new output of the cell?"
   ]
  },
  {
   "cell_type": "code",
   "execution_count": 2,
   "id": "fe1224df",
   "metadata": {},
   "outputs": [
    {
     "name": "stdout",
     "output_type": "stream",
     "text": [
      "1\n"
     ]
    }
   ],
   "source": [
    "a = 1\n",
    "print(a)"
   ]
  },
  {
   "cell_type": "markdown",
   "id": "0abb96aa",
   "metadata": {},
   "source": [
    "### Variable Types\n",
    "\n",
    "In programming variables have a type. A type is a description of a set of values and a set of allowed operations on those values. Some common basic types are:\n",
    "\n",
    "* integer: `1, 2, 3`\n",
    "* doubles and floats (the difference between these is outside the scope of this course): `1.0,  3.14 ,100020343.432`\n",
    "* string: `'a', 'apple', 'the apple is red'`\n",
    "* character: `'a', 'v','q'`\n",
    "* boolean: `true, false, 0, 1`\n",
    "\n",
    "In Python there is no such thing as a character, all things are considered strings. Strings in python are represented by double or single quotes. In Python the boolean values are represented as `True, False`.\n",
    "\n",
    "In the box below there are examples of different variables. You can explore their types by using the `type` function in Python. Enter the variable name that you wish to explore into the open brackets in the `type()` function to see the output."
   ]
  },
  {
   "cell_type": "code",
   "execution_count": 6,
   "id": "c7c84dde",
   "metadata": {},
   "outputs": [
    {
     "data": {
      "text/plain": [
       "float"
      ]
     },
     "execution_count": 6,
     "metadata": {},
     "output_type": "execute_result"
    }
   ],
   "source": [
    "my_var = 1\n",
    "x = 0.12\n",
    "word = \"carrot\"\n",
    "is_equal_to = True\n",
    "\n",
    "type()"
   ]
  },
  {
   "cell_type": "markdown",
   "id": "2d781fae",
   "metadata": {},
   "source": [
    "Python has lots more complex variable types that will be useful to you when you come to learn to program. Run the cell below to explore these types:"
   ]
  },
  {
   "cell_type": "code",
   "execution_count": 9,
   "id": "23df95b4",
   "metadata": {},
   "outputs": [
    {
     "name": "stdout",
     "output_type": "stream",
     "text": [
      "<class 'list'>\n",
      "<class 'dict'>\n",
      "<class 'tuple'>\n"
     ]
    }
   ],
   "source": [
    "shopping_list = ['carrots', 'peas', 'broccoli']\n",
    "shopping_list_quantity = {\"carrots\": 1 , \"peas\": 2, \"broccoli\": 5}\n",
    "shopping_list_quantity_new = ((\"carrots\", 1 ),(\"peas\", 2),(\"broccoli\", 5) )\n",
    "\n",
    "print(type(shopping_list))\n",
    "print(type(shopping_list_quantity))\n",
    "print(type(shopping_list_quantity_new))"
   ]
  },
  {
   "cell_type": "markdown",
   "id": "d23d6e43",
   "metadata": {},
   "source": [
    "## 1.2 Operations\n",
    "\n",
    "### What is an operation?\n",
    "\n",
    "An operation in computing is a character that represents a specific mathematical or logical action or proces. We are quite familiary with them from maths in many cases, but in some cases they look different:\n",
    "* `+` addition\n",
    "* `-` subtraction\n",
    "* `\\` division\n",
    "* `*` multiplication\n",
    "* `**` to the power of\n",
    "* `%` modulo division\n",
    "\n",
    "These operators can be used with different types of variables to achieve different outcomes. Run the cells below to see the behaviour of different types of variables with the different operators."
   ]
  },
  {
   "cell_type": "code",
   "execution_count": 13,
   "id": "9a90cd44",
   "metadata": {},
   "outputs": [
    {
     "name": "stdout",
     "output_type": "stream",
     "text": [
      "2\n"
     ]
    }
   ],
   "source": [
    "y = my_var + 1\n",
    "print(y)"
   ]
  },
  {
   "cell_type": "code",
   "execution_count": 14,
   "id": "f0bad4a3",
   "metadata": {},
   "outputs": [
    {
     "name": "stdout",
     "output_type": "stream",
     "text": [
      "0.0144\n"
     ]
    }
   ],
   "source": [
    "z = x**2\n",
    "print(z)"
   ]
  },
  {
   "cell_type": "code",
   "execution_count": 15,
   "id": "a79c5e7e",
   "metadata": {},
   "outputs": [
    {
     "data": {
      "text/plain": [
       "0.12"
      ]
     },
     "execution_count": 15,
     "metadata": {},
     "output_type": "execute_result"
    }
   ],
   "source": [
    "my_var * x"
   ]
  },
  {
   "cell_type": "code",
   "execution_count": 16,
   "id": "46499703",
   "metadata": {},
   "outputs": [
    {
     "data": {
      "text/plain": [
       "'Orange carrot'"
      ]
     },
     "execution_count": 16,
     "metadata": {},
     "output_type": "execute_result"
    }
   ],
   "source": [
    "\"Orange \" + word"
   ]
  },
  {
   "cell_type": "code",
   "execution_count": 21,
   "id": "c12d064e",
   "metadata": {},
   "outputs": [
    {
     "ename": "TypeError",
     "evalue": "unsupported operand type(s) for /: 'int' and 'str'",
     "output_type": "error",
     "traceback": [
      "\u001b[1;31m---------------------------------------------------------------------------\u001b[0m",
      "\u001b[1;31mTypeError\u001b[0m                                 Traceback (most recent call last)",
      "Input \u001b[1;32mIn [21]\u001b[0m, in \u001b[0;36m<cell line: 1>\u001b[1;34m()\u001b[0m\n\u001b[1;32m----> 1\u001b[0m \u001b[43mmy_var\u001b[49m\u001b[38;5;241;43m/\u001b[39;49m\u001b[43mword\u001b[49m\n",
      "\u001b[1;31mTypeError\u001b[0m: unsupported operand type(s) for /: 'int' and 'str'"
     ]
    }
   ],
   "source": [
    "my_var/word"
   ]
  },
  {
   "cell_type": "markdown",
   "id": "49d35d2f",
   "metadata": {},
   "source": [
    "What do you notice when you add strings together? Did you get any errors? If so, what are they and how can we fix them?\n",
    "\n",
    "Operations work differently on different types. How operations work are set by the rules of the type. You can even use some basic operators on more complex types. Run the cell below to see what happens when you try to add two lists. Was it what you expected?"
   ]
  },
  {
   "cell_type": "code",
   "execution_count": 22,
   "id": "f51cb115",
   "metadata": {},
   "outputs": [
    {
     "data": {
      "text/plain": [
       "[1, 2, 3, 4, 5, 6, 7, 8]"
      ]
     },
     "execution_count": 22,
     "metadata": {},
     "output_type": "execute_result"
    }
   ],
   "source": [
    "[1,2,3,4] + [5,6,7,8]"
   ]
  },
  {
   "cell_type": "markdown",
   "id": "cd180f33",
   "metadata": {},
   "source": [
    "Can you write the following operation in code? Create a variable `x` with a numeric value and a variable `y`. Create a variable `z` and assign it the value of `x + y`. Use the special `print` function to print out your result `print(z)`."
   ]
  },
  {
   "cell_type": "markdown",
   "id": "b8673de8",
   "metadata": {},
   "source": [
    "## 1.3 Special Variables and the Global Namespace\n",
    "\n",
    "Now we are getting a bit more advanced, so don't worry too much if you don't get this in the first instance. \n",
    "\n",
    "### Special Variables\n",
    "\n",
    "In python there are a number of special variables, this means that you cannot assign values to them. They do a very specific job. Two examples of this in python are `__name__` and `__main__`. You will probably see these when you are looking at code in python. What they mean and how they operate is outside the scope of this course, just note that if you assign variables to these names they will not behave how you think.\n",
    "\n",
    "### Namespaces\n",
    "\n",
    "When you are writing code a section of code will have what is called a namespace. Namespaces in python are defined as a collection of currently defined symbolic names along with information about the object that each name references. As you get better at programming you will work more with namespaces but for an introduction run the section of code below."
   ]
  },
  {
   "cell_type": "code",
   "execution_count": 25,
   "id": "45d96e47",
   "metadata": {},
   "outputs": [
    {
     "name": "stdout",
     "output_type": "stream",
     "text": [
      "14\n",
      "0.12\n"
     ]
    }
   ],
   "source": [
    "def double_it(x):\n",
    "    return x*2\n",
    "\n",
    "print(double_it(7))\n",
    "\n",
    "print(x)"
   ]
  },
  {
   "cell_type": "markdown",
   "id": "781b62d2",
   "metadata": {},
   "source": [
    "Here, we are working within the namespace of this notebook. In the cell above we created a function called `double_it` that will double any number you give it. In that cell we also want the value of `x` that we gave to `double_it`. However, when I print the result we get the value of `x` that we designed in cell 6. \n",
    "\n",
    "The reason for this is that the variable `x` in the function is working inside the namespace of that function. Operations outside the function cannot see `x`. When we call `x` outside the function we are working in the global namespace of the notebook. So we are taking the value of `x` from the notebook and not from inside the function. \n",
    "\n",
    "Confusing, right? The key point here is: be careful how you name variables and where they appear in your notebook. This can lead to a lot of errors that are potentially hard to debug."
   ]
  },
  {
   "cell_type": "code",
   "execution_count": null,
   "id": "84afa84b",
   "metadata": {},
   "outputs": [],
   "source": []
  }
 ],
 "metadata": {
  "kernelspec": {
   "display_name": "Python 3 (ipykernel)",
   "language": "python",
   "name": "python3"
  },
  "language_info": {
   "codemirror_mode": {
    "name": "ipython",
    "version": 3
   },
   "file_extension": ".py",
   "mimetype": "text/x-python",
   "name": "python",
   "nbconvert_exporter": "python",
   "pygments_lexer": "ipython3",
   "version": "3.9.12"
  }
 },
 "nbformat": 4,
 "nbformat_minor": 5
}
