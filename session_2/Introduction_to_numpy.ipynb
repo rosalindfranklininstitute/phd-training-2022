{
 "cells": [
  {
   "cell_type": "markdown",
   "id": "7d7f1d54",
   "metadata": {},
   "source": [
    "# 3.0 Introduction to Numpy \n",
    "\n",
    "Numpy is a very important Python package and is used for many applications in science. Numpy offers mathematical functions, linear algebra and much more. Most usefully, it is a package to do vectorized array programming. It is probably one of the most widely used packages in python and underpins other important libraries such as Pandas (data science) matplotlib (plotting) and scikit-image (image processing).\n",
    "\n",
    "We will do a whistle stop tour of Numpy today to show you some concepts of array programming. It is worth delving into this pacakge a bit more to understand what is gonig on. You can find the documentation for Numpy at https://numpy.org/doc/stable/user/absolute_beginners.html\n",
    "\n",
    "## 3.1 Importing Numpy\n",
    "\n",
    "During the course you will have seen the `import` statement at the top of some cells and may wonder what this is doing. Remember namespaces from earlier in the course? All the `import` statement is doing is bringing packages into the global namespace. You will often see the import of Numpy written as it is is in the cell below , we abbreviate `numpy` to `np` so we have less to type. We can access objects from the numpy package using the `.` notation. In the cell below we are importing Numpy and accessing the value of `pi` using the `.` notation. \n",
    "\n",
    "\n"
   ]
  },
  {
   "cell_type": "code",
   "execution_count": 3,
   "id": "8a791d2e",
   "metadata": {},
   "outputs": [
    {
     "name": "stdout",
     "output_type": "stream",
     "text": [
      "3.141592653589793\n"
     ]
    }
   ],
   "source": [
    "import numpy as np\n",
    "\n",
    "print(np.pi)"
   ]
  },
  {
   "cell_type": "markdown",
   "id": "b13e1380",
   "metadata": {},
   "source": [
    "## 3.2 The Numpy Array\n",
    "### 3.2.1 Creating an array\n",
    "\n",
    "[ref: https://numpy.org/doc/stable/user/absolute_beginners.html ]\n",
    "An array is a central data structure of the NumPy library. An array is a grid of values and it contains information about the raw data, how to locate an element, and how to interpret an element. It has a grid of elements that can be indexed in various ways. The elements are all of the same type, referred to as the array dtype.\n",
    "\n",
    "Run the example code below to generate arrays of different shapes and sizes:\n"
   ]
  },
  {
   "cell_type": "code",
   "execution_count": 4,
   "id": "665f9788",
   "metadata": {},
   "outputs": [
    {
     "name": "stdout",
     "output_type": "stream",
     "text": [
      "1-D array:  [1 2 3 4]\n",
      "2-D  array: [[1 0 0]\n",
      " [0 1 0]\n",
      " [0 0 1]]\n",
      "3D array of zeros: [[[0. 0.]\n",
      "  [0. 0.]]\n",
      "\n",
      " [[0. 0.]\n",
      "  [0. 0.]]]\n"
     ]
    }
   ],
   "source": [
    "x = np.array([1,2,3,4])\n",
    "print('1-D array: ', x)\n",
    "\n"
   ]
  },
  {
   "cell_type": "code",
   "execution_count": null,
   "id": "f5c252fa",
   "metadata": {},
   "outputs": [],
   "source": [
    "y = np.array([[1,0,0],[0,1,0], [0,0,1]])\n",
    "print('2-D  array:', y )\n",
    "\n"
   ]
  },
  {
   "cell_type": "code",
   "execution_count": null,
   "id": "b8823ef7",
   "metadata": {},
   "outputs": [],
   "source": [
    "z = np.zeros([2,2,2])\n",
    "print('3D array of zeros:', z)"
   ]
  },
  {
   "cell_type": "markdown",
   "id": "4bfb5ffc",
   "metadata": {},
   "source": [
    "We can also create non-numeric arrays, but unlike lists arrays must contain data of the same `type`. Run the example code below that creates a list and then uses the `np.array` function to turn it into an array. What happens when you run the code? What has numpy done automatically in this example?"
   ]
  },
  {
   "cell_type": "code",
   "execution_count": 5,
   "id": "916910b6",
   "metadata": {},
   "outputs": [
    {
     "name": "stdout",
     "output_type": "stream",
     "text": [
      "['red', 'yellow', 1, 'purple']\n",
      "['red' 'yellow' '1' 'purple']\n"
     ]
    }
   ],
   "source": [
    "my_list = ['red', 'yellow', 1, 'purple']\n",
    "\n",
    "print(my_list)\n",
    "\n",
    "my_arr = np.array(my_list)\n",
    "print(my_arr)"
   ]
  },
  {
   "cell_type": "markdown",
   "id": "56df9bbe",
   "metadata": {},
   "source": [
    "### 3.2.2 Indexes and slicing\n",
    "One advantage of using arrays is they can be indexed. This means you can select elements and slices of an array. You can do this is several different ways demonstrated in the cell below. It is important to note that Python indexes from 0 . Other languages such as Matlab and R index from 1. "
   ]
  },
  {
   "cell_type": "code",
   "execution_count": 6,
   "id": "8a521ffa",
   "metadata": {},
   "outputs": [
    {
     "name": "stdout",
     "output_type": "stream",
     "text": [
      "First Element in x=[1,2,3,4]:\n",
      "1\n",
      " Middle line of [[1 0 0], [0 1 0], [0 0 1]]:\n",
      "[0 1 0]\n",
      "Second face of a 3D array:\n",
      "[array([[0., 0.],\n",
      "       [0., 0.]])]\n",
      "First element of  2-D array:\n",
      "1\n",
      "First 2 elements of the first column in a 2-D array:\n",
      "[1 0]\n"
     ]
    }
   ],
   "source": [
    "# Indexing with a non-negative integer\n",
    "print(\"First Element in x=[1,2,3,4]:\")\n",
    "print(x[0])\n",
    "\n"
   ]
  },
  {
   "cell_type": "code",
   "execution_count": null,
   "id": "bc52b277",
   "metadata": {},
   "outputs": [],
   "source": [
    "print(\" Middle line of [[1 0 0], [0 1 0], [0 0 1]]:\")\n",
    "print(y[:,1]) "
   ]
  },
  {
   "cell_type": "code",
   "execution_count": null,
   "id": "1903f688",
   "metadata": {},
   "outputs": [],
   "source": [
    "print(\"Second face of a 3D array:\")\n",
    "print([z[:,:, 1]]) \n",
    "\n"
   ]
  },
  {
   "cell_type": "code",
   "execution_count": null,
   "id": "4148f0ec",
   "metadata": {},
   "outputs": [],
   "source": [
    "print(\"First element of  2-D array:\")\n",
    "print(y[0,0]) \n",
    "\n"
   ]
  },
  {
   "cell_type": "code",
   "execution_count": null,
   "id": "65942349",
   "metadata": {},
   "outputs": [],
   "source": [
    "print(\"First 2 elements of the first column in a 2-D array:\")\n",
    "print(y[0,:2])"
   ]
  },
  {
   "cell_type": "markdown",
   "id": "d8cfeae6",
   "metadata": {},
   "source": [
    "### 3.2.3 Shape and Dimensions\n",
    "\n",
    "You can find the size and the dimensions of any array with a couple of very useful functions from the Numpy package `np.shape` and `np.ndim`.\n",
    "\n",
    "`np.shape` gives you the size of each of the dimensions of the array.\n",
    "`np.ndim` gives you the number of dimensions the array has. \n",
    "Run the cell below to see an example:"
   ]
  },
  {
   "cell_type": "code",
   "execution_count": 18,
   "id": "c453078f",
   "metadata": {},
   "outputs": [
    {
     "name": "stdout",
     "output_type": "stream",
     "text": [
      "Shape of x:\n",
      "(4,)\n",
      "Number of dimensions of x:\n",
      "1\n",
      "Shape of y:\n",
      "(3, 3)\n",
      "Number of dimensions of y:\n",
      "2\n",
      "Shape of z:\n",
      "(2, 2, 2)\n",
      "Number of dimensions of z:\n",
      "3\n"
     ]
    }
   ],
   "source": [
    "print(\"Shape of x:\")\n",
    "print(np.shape(x))\n",
    "print(\"Number of dimensions of x:\")\n",
    "print(np.ndim(x))\n",
    "\n"
   ]
  },
  {
   "cell_type": "code",
   "execution_count": null,
   "id": "35ea7162",
   "metadata": {},
   "outputs": [],
   "source": [
    "print(\"Shape of y:\")\n",
    "print(np.shape(y))\n",
    "print(\"Number of dimensions of y:\")\n",
    "print(np.ndim(y))\n",
    "\n"
   ]
  },
  {
   "cell_type": "code",
   "execution_count": null,
   "id": "ed670959",
   "metadata": {},
   "outputs": [],
   "source": [
    "print(\"Shape of z:\")\n",
    "print(np.shape(z))\n",
    "print(\"Number of dimensions of z:\")\n",
    "print(np.ndim(z))"
   ]
  },
  {
   "cell_type": "markdown",
   "id": "dbe1daea",
   "metadata": {},
   "source": [
    "As you can see from the above example array indexing and slicing is very powerful and flexible. You can even use other arrays to select out indicies.\n",
    "\n",
    "### Exercises\n",
    "\n",
    "* Make your own 2-D numpy array of any type\n",
    "* Select the 2 element of your array\n",
    "* Select the 1st column of your array"
   ]
  },
  {
   "cell_type": "code",
   "execution_count": 7,
   "id": "9947fe5c",
   "metadata": {},
   "outputs": [],
   "source": [
    "# Your examples here"
   ]
  },
  {
   "cell_type": "markdown",
   "id": "614adbbf",
   "metadata": {},
   "source": [
    "## 3.3 Array Operations\n",
    "### 3.3.1 Simple Operations\n",
    "\n",
    "The operators that we learnt in the last notebook (e.g. `+,/,*,-`) work **elementwise** on numpy arrays. Run the cell below for some examples: "
   ]
  },
  {
   "cell_type": "code",
   "execution_count": 8,
   "id": "011f8415",
   "metadata": {},
   "outputs": [
    {
     "name": "stdout",
     "output_type": "stream",
     "text": [
      "add 1:\n",
      "[2 3 4 5]\n",
      "Make negative:\n",
      "[-1 -2 -3 -4]\n",
      "divide by 100\n",
      "[0.01 0.02 0.03 0.04]\n"
     ]
    }
   ],
   "source": [
    "arr = np.array([1,2,3,4])\n",
    "\n",
    "print(\"add 1:\")\n",
    "print(arr + 1)\n",
    "\n",
    "print(\"Make negative:\")\n",
    "print(arr*-1)\n",
    "\n",
    "print(\"divide by 100\")\n",
    "print(arr/100)\n"
   ]
  },
  {
   "cell_type": "markdown",
   "id": "7818a29c",
   "metadata": {},
   "source": [
    "These are examples of *vectorized* operations. This gives an increase in performance over using things like loops. For example if you want to square every number in a list, you would have to run a `for` loop executing multiply by two on each element on the list. For a numpy array you simply square the whole array. \n",
    "\n",
    "Run the cell below to see the difference in the time it takes to run a loop versus a vectorized operation."
   ]
  },
  {
   "cell_type": "code",
   "execution_count": 15,
   "id": "7cdbd818",
   "metadata": {},
   "outputs": [
    {
     "name": "stdout",
     "output_type": "stream",
     "text": [
      "time to run multiplication as loop:  0.03128957748413086\n",
      "time to run multiplication as loop:  0.0\n"
     ]
    }
   ],
   "source": [
    "from time import time\n",
    "\n",
    "my_list = list(range(1,100000)) # generate a list of numbers 1 to 100,000\n",
    "arr = np.array(range(1,100000)) # generate an array of numbers 1 to 100,000\n",
    "\n",
    "t_start= time()\n",
    "output = []\n",
    "for item in my_list:\n",
    "    output.append(item**2)\n",
    "    \n",
    "t_end = time()\n",
    "print(\"time to run multiplication as loop: \",  t_end-t_start)\n",
    "\n",
    "\n",
    "t_start= time()\n",
    "arr**2    \n",
    "t_end = time() \n",
    "print(\"time to run multiplication as loop: \",  t_end-t_start)\n"
   ]
  },
  {
   "cell_type": "markdown",
   "id": "1880dda7",
   "metadata": {},
   "source": [
    "### 3.3.2 Opertions between Numpy arrays\n",
    "\n",
    "Here we have just done simple operations on numpy arrays but of course you can do operations between numpy arrays.\n",
    "Run the cell below to see what happens when you perform different operations on arrays.\n"
   ]
  },
  {
   "cell_type": "code",
   "execution_count": 10,
   "id": "b426cb18",
   "metadata": {},
   "outputs": [
    {
     "name": "stdout",
     "output_type": "stream",
     "text": [
      "[2 4 6]\n",
      "[1 4 9]\n",
      "[[ 2  4  6]\n",
      " [ 5  7  9]\n",
      " [ 8 10 12]]\n",
      "[[ 1  4  9]\n",
      " [ 4 10 18]\n",
      " [ 7 16 27]]\n",
      "[[[ 2  3  4]\n",
      "  [ 6  7  8]\n",
      "  [10 11 12]]]\n",
      "[[[ 1  2  3]\n",
      "  [ 8 10 12]\n",
      "  [21 24 27]]]\n"
     ]
    }
   ],
   "source": [
    "a = np.array([1, 2, 3])\n",
    "b = np.array([1, 2, 3])\n",
    "c = np.array([[1, 2, 3],[4,5,6], [7,8,9]])\n",
    "d = np.array([[1],[2],[3]]),\n"
   ]
  },
  {
   "cell_type": "code",
   "execution_count": null,
   "id": "b080d1fd",
   "metadata": {},
   "outputs": [],
   "source": [
    "print(a + b)\n",
    "print(a * b)\n",
    "\n",
    "print( a + c)\n",
    "print( a * c)\n",
    "\n",
    "print(c + d)\n",
    "print(c * d)"
   ]
  },
  {
   "cell_type": "markdown",
   "id": "88d5bac2",
   "metadata": {},
   "source": [
    "  As you can see from the example above operations run elementwise when we have arrays of the same dimesions. Where we have array `a`,  dimensions 1 x 3, and array `c` dimensions of 3x3 , the operations work elementwise along the rows. When we look at operations between the array `d`, dimensions 3x1 and `c` we can see the operations work elementwise along the columns.  \n",
    "  \n",
    "When you want to operations on two arrays you need to make sure that their shapes can be broadcast. This means that at least one dimension must fit completely into the other. If not Numpy will throw an error as it does not know how to apply the elementwise operation. Run the cell below to see this in action:"
   ]
  },
  {
   "cell_type": "code",
   "execution_count": 14,
   "id": "d69badfb",
   "metadata": {},
   "outputs": [
    {
     "ename": "ValueError",
     "evalue": "operands could not be broadcast together with shapes (2,2) (4,4) ",
     "output_type": "error",
     "traceback": [
      "\u001b[1;31m---------------------------------------------------------------------------\u001b[0m",
      "\u001b[1;31mValueError\u001b[0m                                Traceback (most recent call last)",
      "Input \u001b[1;32mIn [14]\u001b[0m, in \u001b[0;36m<cell line: 4>\u001b[1;34m()\u001b[0m\n\u001b[0;32m      1\u001b[0m a \u001b[38;5;241m=\u001b[39m np\u001b[38;5;241m.\u001b[39marray([[\u001b[38;5;241m1\u001b[39m,\u001b[38;5;241m0\u001b[39m],[\u001b[38;5;241m0\u001b[39m,\u001b[38;5;241m1\u001b[39m]])\n\u001b[0;32m      2\u001b[0m b\u001b[38;5;241m=\u001b[39m np\u001b[38;5;241m.\u001b[39marray([[\u001b[38;5;241m1\u001b[39m,\u001b[38;5;241m2\u001b[39m,\u001b[38;5;241m3\u001b[39m,\u001b[38;5;241m4\u001b[39m],[\u001b[38;5;241m5\u001b[39m,\u001b[38;5;241m6\u001b[39m,\u001b[38;5;241m7\u001b[39m,\u001b[38;5;241m8\u001b[39m],[\u001b[38;5;241m1\u001b[39m,\u001b[38;5;241m2\u001b[39m,\u001b[38;5;241m3\u001b[39m,\u001b[38;5;241m4\u001b[39m],[\u001b[38;5;241m5\u001b[39m,\u001b[38;5;241m6\u001b[39m,\u001b[38;5;241m7\u001b[39m,\u001b[38;5;241m8\u001b[39m]])\n\u001b[1;32m----> 4\u001b[0m \u001b[38;5;28mprint\u001b[39m(\u001b[43ma\u001b[49m\u001b[43m \u001b[49m\u001b[38;5;241;43m*\u001b[39;49m\u001b[43m \u001b[49m\u001b[43mb\u001b[49m)\n",
      "\u001b[1;31mValueError\u001b[0m: operands could not be broadcast together with shapes (2,2) (4,4) "
     ]
    }
   ],
   "source": [
    "a = np.array([[1,0],[0,1]])\n",
    "b= np.array([[1,2,3,4],[5,6,7,8],[1,2,3,4],[5,6,7,8]])\n",
    "\n",
    "print(a * b)"
   ]
  },
  {
   "cell_type": "markdown",
   "id": "828c95c2",
   "metadata": {},
   "source": [
    "#### Exercises\n",
    "\n",
    "* Create two arrays of different sizes but which can be broadcast together. You can use any of the methods above.\n",
    "* Write some operations between your two arrays. \n"
   ]
  },
  {
   "cell_type": "code",
   "execution_count": null,
   "id": "0f8c1a48",
   "metadata": {},
   "outputs": [
    {
     "ename": "",
     "evalue": "",
     "output_type": "error",
     "traceback": [
      "\u001b[1;31mJupyter cannot be started. Error attempting to locate Jupyter: Running cells with 'Python 3.8.10 64-bit' requires jupyter and notebook package.\n",
      "\u001b[1;31mRun the following command to install 'jupyter and notebook' into the Python environment. \n",
      "\u001b[1;31mCommand: 'python -m pip install jupyter notebook -U\n",
      "\u001b[1;31mor\n",
      "\u001b[1;31mconda install jupyter notebook -U'\n",
      "\u001b[1;31mClick <a href='https://aka.ms/installJupyterForVSCode'>here</a> for more info."
     ]
    }
   ],
   "source": [
    "# Your examples here"
   ]
  },
  {
   "cell_type": "markdown",
   "id": "515d63f0",
   "metadata": {},
   "source": [
    "## 3.4 Functions and Plotting\n",
    "\n",
    "Numpy is not just about arrays, there are many useful mathematical functions that are part of Numpy. In this example we will focus on the triganomic functions to get a feel for how to work with Numpy and its power when processing this. It is important to note here that most things are written for you , you probably won't have to write things from scratch.\n",
    "\n",
    "### 3.4.1 The trigonometric functions\n",
    "\n",
    "The trignometric functions are represented in numpy as the following: `np.sin`, `np.cos`, `np.tan`. The hyperbolic functions being represented as `np.sinh`, `np.cosh`, `np.tanh`. \n",
    "\n",
    "These functions are calculated in radians so `np.deg2rad` , `np.radians` and `np.degrees` are all very useful functions to go with them. See we told you, you wouldn't need to write anything from scratch!\n",
    "\n",
    "Run the cell below to see the functions doing some basic calculations:\n"
   ]
  },
  {
   "cell_type": "code",
   "execution_count": 22,
   "id": "6dc33d42",
   "metadata": {},
   "outputs": [
    {
     "name": "stdout",
     "output_type": "stream",
     "text": [
      "Sin 30 degrees\n",
      "0.49999999999999994\n",
      "Cos 0 degrees\n",
      "1.0\n",
      "Tan pi/2 radians\n",
      "0.9999999999999999\n"
     ]
    }
   ],
   "source": [
    "print(\"Sin 30 degrees\")\n",
    "print(np.sin(np.deg2rad(30)))\n",
    "\n",
    "print(\"Cos 0 degrees\")\n",
    "print(np.cos(0))\n",
    "\n",
    "print(\"Tan pi/4 radians\")\n",
    "print(np.tan(np.pi/4))"
   ]
  },
  {
   "cell_type": "markdown",
   "id": "4d5cfbbc",
   "metadata": {},
   "source": [
    "### 3.4.2 Trigonometry on Arrays\n",
    "\n",
    "These functions are designed to work on arrays. We will use a special function called `np.linspace` to create an array of linearly spaced points going from 0 to `2*pi` radians. We can then apply the functions to these and plot them with `matplotlib` which you have seen in your previous sessions.\n",
    "\n",
    "Run the cell below to see how we create this:"
   ]
  },
  {
   "cell_type": "code",
   "execution_count": null,
   "id": "9635334f",
   "metadata": {},
   "outputs": [],
   "source": [
    "theta_range = np.linspace(0, 2*np.pi, 100)"
   ]
  },
  {
   "cell_type": "code",
   "execution_count": 24,
   "id": "c52bd081",
   "metadata": {},
   "outputs": [],
   "source": [
    "\n",
    "\n",
    "y = np.sin(theta_range)\n",
    "z = np.cos(theta_range)"
   ]
  },
  {
   "cell_type": "markdown",
   "id": "80d1260e",
   "metadata": {},
   "source": [
    "### 3.4.3 Plotting\n",
    "\n",
    "Ok, let's plot this using matplotlib. Here we will use the plot function to create 1-D line graph of the`sin` from 0 to `2*pi` and `cosine` over the same range."
   ]
  },
  {
   "cell_type": "code",
   "execution_count": 26,
   "id": "89ac757b",
   "metadata": {},
   "outputs": [
    {
     "data": {
      "text/plain": [
       "[<matplotlib.lines.Line2D at 0x187bdcc9ac0>]"
      ]
     },
     "execution_count": 26,
     "metadata": {},
     "output_type": "execute_result"
    },
    {
     "data": {
      "image/png": "[encoded data removed]",
      "text/plain": [
       "<Figure size 432x288 with 1 Axes>"
      ]
     },
     "metadata": {
      "needs_background": "light"
     },
     "output_type": "display_data"
    }
   ],
   "source": [
    "import matplotlib.pyplot as plt\n",
    "%matplotlib inline\n",
    "\n",
    "plt.plot(y)\n",
    "plt.plot(z)"
   ]
  },
  {
   "cell_type": "markdown",
   "id": "d536e104",
   "metadata": {},
   "source": [
    "### Exercises\n",
    "\n",
    "* Plot `tan` of the array `theta`.You don't need to do any of the import statements again or need to define theta as they have already been defined in the notebook."
   ]
  },
  {
   "cell_type": "code",
   "execution_count": 27,
   "id": "f8d26c36",
   "metadata": {},
   "outputs": [],
   "source": [
    "# Your example here"
   ]
  },
  {
   "cell_type": "markdown",
   "id": "acb65efb",
   "metadata": {},
   "source": [
    "### 3.4.4 Showing off in 2-D\n",
    "\n",
    "Of course this can all be done in 2-D , run the code below to see:"
   ]
  },
  {
   "cell_type": "code",
   "execution_count": null,
   "id": "2cba48c0",
   "metadata": {},
   "outputs": [
    {
     "ename": "",
     "evalue": "",
     "output_type": "error",
     "traceback": [
      "\u001b[1;31mJupyter cannot be started. Error attempting to locate Jupyter: Running cells with 'Python 3.8.10 64-bit' requires jupyter and notebook package.\n",
      "\u001b[1;31mRun the following command to install 'jupyter and notebook' into the Python environment. \n",
      "\u001b[1;31mCommand: 'python -m pip install jupyter notebook -U\n",
      "\u001b[1;31mor\n",
      "\u001b[1;31mconda install jupyter notebook -U'\n",
      "\u001b[1;31mClick <a href='https://aka.ms/installJupyterForVSCode'>here</a> for more info."
     ]
    }
   ],
   "source": [
    "theta_range = np.linspace(0, 2*np.pi, 100)\n",
    "X, Y = np.meshgrid(theta_range,theta_range)\n",
    "\n",
    "P = np.sin(Y) * np.cos(X)\n",
    "plt.imshow(P)\n",
    "\n"
   ]
  },
  {
   "cell_type": "code",
   "execution_count": null,
   "id": "460f1ec3",
   "metadata": {},
   "outputs": [],
   "source": []
  }
 ],
 "metadata": {
  "kernelspec": {
   "display_name": "Python 3 (ipykernel)",
   "language": "python",
   "name": "python3"
  },
  "language_info": {
   "codemirror_mode": {
    "name": "ipython",
    "version": 3
   },
   "file_extension": ".py",
   "mimetype": "text/x-python",
   "name": "python",
   "nbconvert_exporter": "python",
   "pygments_lexer": "ipython3",
   "version": "3.8.13"
  },
  "vscode": {
   "interpreter": {
    "hash": "916dbcbb3f70747c44a77c7bcd40155683ae19c65e1c03b4aa3499c5328201f1"
   }
  }
 },
 "nbformat": 4,
 "nbformat_minor": 5
}
