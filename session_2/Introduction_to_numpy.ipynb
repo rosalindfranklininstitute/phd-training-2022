{
 "cells": [
  {
   "cell_type": "markdown",
   "id": "c1a3e9df",
   "metadata": {},
   "source": [
    "# 3.0 Introduction to Numpy \n",
    "\n",
    "Numpy is a very important Python package and is used for many applications in science. Numpy offers mathematical functions, linear algebra and much more. Most usefully, it is a package to do vectorized array programming. It is probably one of the most widely used packages in python and underpins other important libraries such as Pandas (data science) matplotlib (plotting) and scikit-image (image processing).\n",
    "\n",
    "We will do a whistle stop tour of Numpy today to show you some concepts of array programming. It is worth delving into this pacakge a bit more to understand what is gonig on. You can find the documentation for Numpy at https://numpy.org/doc/stable/user/absolute_beginners.html\n",
    "\n",
    "## 3.1 Importing Numpy\n",
    "\n",
    "During the course you will have seen the `import` statement at the top of some cells and may wonder what this is doing. Remember namespaces from earlier in the course? All the `import` statement is doing is bringing packages into the global namespace. You will often see the import of Numpy written as it is is in the cell below , we abbreviate `numpy` to `np` so we have less to type. We can access objects from the numpy package using the `.` notation. In the cell below we are importing Numpy and accessing the value of `pi` using the `.` notation. \n",
    "\n",
    "\n"
   ]
  },
  {
   "cell_type": "code",
   "execution_count": 2,
   "id": "d96c9bfe",
   "metadata": {},
   "outputs": [
    {
     "name": "stdout",
     "output_type": "stream",
     "text": [
      "3.141592653589793\n"
     ]
    }
   ],
   "source": [
    "import numpy as np\n",
    "\n",
    "print(np.pi)"
   ]
  },
  {
   "cell_type": "markdown",
   "id": "ed4c6908",
   "metadata": {},
   "source": [
    "## 3.2 The Numpy Array\n",
    "### 3.2.1 Creating an array\n",
    "\n",
    "[ref: https://numpy.org/doc/stable/user/absolute_beginners.html ]\n",
    "An array is a central data structure of the NumPy library. An array is a grid of values and it contains information about the raw data, how to locate an element, and how to interpret an element. It has a grid of elements that can be indexed in various ways. The elements are all of the same type, referred to as the array dtype.\n",
    "\n",
    "Run the example code below to generate arrays of different shapes and sizes:\n"
   ]
  },
  {
   "cell_type": "code",
   "execution_count": 18,
   "id": "f0f2376c",
   "metadata": {},
   "outputs": [
    {
     "name": "stdout",
     "output_type": "stream",
     "text": [
      "1-D array:  [1 2 3 4]\n",
      "2-D  array: [[1 0 0]\n",
      " [0 1 0]\n",
      " [0 0 1]]\n",
      "3D array of zeros: [[[0. 0.]\n",
      "  [0. 0.]]\n",
      "\n",
      " [[0. 0.]\n",
      "  [0. 0.]]]\n"
     ]
    }
   ],
   "source": [
    "x = np.array([1,2,3,4])\n",
    "print('1-D array: ', x)\n",
    "\n",
    "y = np.array([[1,0,0],[0,1,0], [0,0,1]])\n",
    "print('2-D  array:', y )\n",
    "\n",
    "z = np.zeros([2,2,2])\n",
    "print('3D array of zeros:', z)"
   ]
  },
  {
   "cell_type": "markdown",
   "id": "3a943025",
   "metadata": {},
   "source": [
    "We can also create non-numeric arrays, but unlike lists arrays must contain data of the same `type`. Run the example code below that creates a list and then uses the `np.array` function to turn it into an array. What happens when you run the code? What has numpy done automatically in this example?"
   ]
  },
  {
   "cell_type": "code",
   "execution_count": 14,
   "id": "433e8bb2",
   "metadata": {},
   "outputs": [
    {
     "name": "stdout",
     "output_type": "stream",
     "text": [
      "['red', 'yellow', 1, 'purple']\n",
      "['red' 'yellow' '1' 'purple']\n"
     ]
    }
   ],
   "source": [
    "my_list = ['red', 'yellow', 1, 'purple']\n",
    "\n",
    "print(my_list)\n",
    "\n",
    "my_arr = np.array(my_list)\n",
    "print(my_arr)"
   ]
  },
  {
   "cell_type": "markdown",
   "id": "088e7f74",
   "metadata": {},
   "source": [
    "### 3.2.2 Indexes and slicing\n",
    "One advantage of using arrays is they can be indexed. This means you can select elements and slices of an array. You can do this is several different ways demonstrated in the cell below. It is important to note that Python indexes from 0 . Other languages such as Matlab and R index from 1. "
   ]
  },
  {
   "cell_type": "code",
   "execution_count": 35,
   "id": "bcef865e",
   "metadata": {},
   "outputs": [
    {
     "name": "stdout",
     "output_type": "stream",
     "text": [
      "First Element in x=[1,2,3,4]:\n",
      "1\n",
      " Middle line of [[1 0 0], [0 1 0], [0 0 1]]:\n",
      "[0 1 0]\n",
      "Second face of a 3D array:\n",
      "[array([[0., 0.],\n",
      "       [0., 0.]])]\n",
      "First element of  2-D array:\n",
      "1\n",
      "First 2 elements of the first column in a 2-D array:\n",
      "[1 0]\n"
     ]
    }
   ],
   "source": [
    "# Indexing with a non-negative integer\n",
    "print(\"First Element in x=[1,2,3,4]:\")\n",
    "print(x[0])\n",
    "\n",
    "print(\" Middle line of [[1 0 0], [0 1 0], [0 0 1]]:\")\n",
    "print(y[:,1]) \n",
    "\n",
    "print(\"Second face of a 3D array:\")\n",
    "print([z[:,:, 1]]) \n",
    "\n",
    "print(\"First element of  2-D array:\")\n",
    "print(y[0,0]) \n",
    "\n",
    "print(\"First 2 elements of the first column in a 2-D array:\")\n",
    "print(y[0,:2])"
   ]
  },
  {
   "cell_type": "markdown",
   "id": "c7d6f454",
   "metadata": {},
   "source": [
    "As you can see from the above example array indexing and slicing is very powerful and flexible. You can even use other arrays to select out indicies.\n",
    "\n",
    "### Exercises\n",
    "\n",
    "* Make your own 2-D numpy array of any type\n",
    "* Select the 2 element of your array\n",
    "* Select the 1st column of your array"
   ]
  },
  {
   "cell_type": "code",
   "execution_count": 36,
   "id": "5e629051",
   "metadata": {},
   "outputs": [],
   "source": [
    "# Your examples here"
   ]
  },
  {
   "cell_type": "markdown",
   "id": "b335da55",
   "metadata": {},
   "source": [
    "## 3.3 Array Operations\n",
    "### 3.3.1 Simple Operations\n",
    "\n",
    "The operators that we learnt in the last notebook (e.g. +,/,*,-) work element wise on numpy arrays. Run the cell below for some examples: "
   ]
  },
  {
   "cell_type": "code",
   "execution_count": 43,
   "id": "e2fd7bbc",
   "metadata": {},
   "outputs": [
    {
     "name": "stdout",
     "output_type": "stream",
     "text": [
      "add 1:\n",
      "[2 3 4 5]\n",
      "multiply by 5:\n",
      "[-1 -2 -3 -4]\n",
      "divide by 100\n",
      "[0.01 0.02 0.03 0.04]\n"
     ]
    }
   ],
   "source": [
    "arr = np.array([1,2,3,4])\n",
    "\n",
    "print(\"add 1:\")\n",
    "print(arr + 1)\n",
    "\n",
    "print(\"Make negative:\")\n",
    "print(arr*-1)\n",
    "\n",
    "print(\"divide by 100\")\n",
    "print(arr/100)\n"
   ]
  },
  {
   "cell_type": "markdown",
   "id": "187b516a",
   "metadata": {},
   "source": [
    "These are examples of *vectorized* operations. This gives an increase in performance over using things like loops. For example if you want to square every number in a list, you would have to run a `for` loop executing multiply by two on each element on the list. For a numpy array you simply square the whole array. \n",
    "\n",
    "Run the cell below to see the difference in the time it takes to run a loop versus a vectorized operation."
   ]
  },
  {
   "cell_type": "code",
   "execution_count": 62,
   "id": "d6891ad5",
   "metadata": {},
   "outputs": [
    {
     "name": "stdout",
     "output_type": "stream",
     "text": [
      "time to run multiplication as loop:  0.02214670181274414\n",
      "time to run multiplication as loop:  0.0\n"
     ]
    }
   ],
   "source": [
    "my_list = list(range(1,100000)) # generate a list of numbers 1 to 100,000\n",
    "arr = np.array(range(1,100000)) # generate an array of numbers 1 to 100,000\n",
    "\n",
    "t_start= time()\n",
    "output = []\n",
    "for item in my_list:\n",
    "    output.append(item**2)\n",
    "    \n",
    "t_end = time()\n",
    "print(\"time to run multiplication as loop: \",  t_end-t_start)\n",
    "\n",
    "\n",
    "t_start= time()\n",
    "arr**2    \n",
    "t_end = time() \n",
    "print(\"time to run multiplication as loop: \",  t_end-t_start)\n"
   ]
  },
  {
   "cell_type": "markdown",
   "id": "97123c32",
   "metadata": {},
   "source": [
    "### 3.3.2 Opertions between Numpy arrays\n",
    "\n",
    "Here we have just done simple operations on numpy arrays but of course you can do operations between numpy arrays.\n",
    "Run the cell below to see what happens when you perform different operations on arrays.\n"
   ]
  },
  {
   "cell_type": "code",
   "execution_count": 73,
   "id": "4fb67811",
   "metadata": {},
   "outputs": [
    {
     "name": "stdout",
     "output_type": "stream",
     "text": [
      "[2 4 6]\n",
      "[1 4 9]\n",
      "[[ 2  4  6]\n",
      " [ 5  7  9]\n",
      " [ 8 10 12]]\n",
      "[[ 1  4  9]\n",
      " [ 4 10 18]\n",
      " [ 7 16 27]]\n"
     ]
    }
   ],
   "source": [
    "a = np.array([1, 2, 3])\n",
    "b = np.array([1, 2, 3])\n",
    "c = np.array([[1, 2, 3],[4,5,6], [7,8,9]])\n",
    "\n",
    "print(a + b)\n",
    "print(a * b)\n",
    "\n",
    "print( a + c)\n",
    "print( a * c)"
   ]
  },
  {
   "cell_type": "markdown",
   "id": "c944678f",
   "metadata": {},
   "source": [
    "As you can see from the example above operations run elementwise. With each element doing the operation on "
   ]
  },
  {
   "cell_type": "code",
   "execution_count": null,
   "id": "f50f44ea",
   "metadata": {},
   "outputs": [],
   "source": []
  },
  {
   "cell_type": "markdown",
   "id": "581182f5",
   "metadata": {},
   "source": [
    "## 3.4 Functions and Plotting\n",
    "\n",
    "Numpy is not just about arrays, there are many useful mathematical functions that are part of Numpy. In this example we will focus on the triganomic functions to get a feel for how to work with Numpy and its power when processing this. It is important to note here that most things are written for you , you probably won't have to write from stratch most . "
   ]
  },
  {
   "cell_type": "code",
   "execution_count": null,
   "id": "bb919c2b",
   "metadata": {},
   "outputs": [],
   "source": []
  }
 ],
 "metadata": {
  "kernelspec": {
   "display_name": "Python 3 (ipykernel)",
   "language": "python",
   "name": "python3"
  },
  "language_info": {
   "codemirror_mode": {
    "name": "ipython",
    "version": 3
   },
   "file_extension": ".py",
   "mimetype": "text/x-python",
   "name": "python",
   "nbconvert_exporter": "python",
   "pygments_lexer": "ipython3",
   "version": "3.9.12"
  }
 },
 "nbformat": 4,
 "nbformat_minor": 5
}
